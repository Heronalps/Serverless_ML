{
 "cells": [
  {
   "cell_type": "code",
   "execution_count": 525,
   "metadata": {},
   "outputs": [],
   "source": [
    "import matplotlib.pyplot as plt\n",
    "import numpy as np\n",
    "import pandas as pd\n",
    "import re\n",
    "import time\n",
    "from subprocess import check_output\n",
    "from sklearn import datasets, linear_model\n",
    "from sklearn.metrics import mean_squared_error, r2_score\n",
    "import warnings\n",
    "warnings.filterwarnings(action='ignore', module='scipy', message='^internal gelsd')\n",
    "\n",
    "LOWER_BOUND = time.strptime(\"2018-04-06 00:00:00.000000\",\"%Y-%m-%d %H:%M:%S.%f\")\n",
    "UPPER_BOUND = time.strptime(\"2018-12-09 00:00:00.000000\",\"%Y-%m-%d %H:%M:%S.%f\")\n",
    "TIMESTAMP_COLUMN = 'dt'"
   ]
  },
  {
   "cell_type": "code",
   "execution_count": 526,
   "metadata": {},
   "outputs": [],
   "source": [
    "# This function shows the time range of a certain time series\n",
    "def show_time_range(df, column):\n",
    "    print(\"The time range of data frame is from {0} to {1}.\".format(df[column].iloc[0], df[column].iloc[-1]))"
   ]
  },
  {
   "cell_type": "code",
   "execution_count": 575,
   "metadata": {},
   "outputs": [],
   "source": [
    "# This function read csv file from a directory\n",
    "def read_csv(file_name):\n",
    "    path_prefix = re.sub(r'predictor/notebook\\n', r'datasets', check_output(['pwd']).decode('utf-8'))\n",
    "    df = pd.read_csv(path_prefix + '/' + file_name)\n",
    "    # show_time_range(df, 'dt')\n",
    "    return df"
   ]
  },
  {
   "cell_type": "code",
   "execution_count": 559,
   "metadata": {},
   "outputs": [],
   "source": [
    "# This function converts string of time stamp in the data frame to time construct\n",
    "def convert_timestamp(df, column):\n",
    "    df[column] = df[column].apply(lambda ts: re.search(r'\\d{4}-\\d{2}-\\d{2}\\s\\d{2}:\\d{2}', ts).group(0))\n",
    "    df[column] = df[column].apply(lambda ts: time.strptime(ts, \"%Y-%m-%d %H:%M\"))\n",
    "    df[(df[column] > LOWER_BOUND) & (df[column] < UPPER_BOUND)]\n",
    "\n",
    "    # Reset index of dataframes\n",
    "    df = df.reset_index(drop=True)\n",
    "    \n",
    "    return df"
   ]
  },
  {
   "cell_type": "code",
   "execution_count": 574,
   "metadata": {},
   "outputs": [],
   "source": [
    "# This function keeps merging dataframes onto base dataframe\n",
    "def merge_df(column, df_base, df_dict):\n",
    "    df_base.rename(columns={'meas':'target'}, inplace=True)\n",
    "    # print(df_base.head(5))\n",
    "    for df_name in df_dict:\n",
    "        df_base = pd.merge(df_base, df_dict[df_name], how='inner', on=['dt'], suffixes=['_1', '_2'])\n",
    "        # print(df_base.head(5))\n",
    "    return df_base"
   ]
  },
  {
   "cell_type": "code",
   "execution_count": 541,
   "metadata": {},
   "outputs": [],
   "source": [
    "context = {}\n",
    "event = {}\n",
    "event['variable_files'] = ['pizero_02.csv', 'pizero_02_2.csv', 'pizero_04.csv', 'pizero_05.csv', 'pizero_06.csv']\n",
    "event['target_file'] = 'pizero_02_dht.csv'"
   ]
  },
  {
   "cell_type": "code",
   "execution_count": 581,
   "metadata": {},
   "outputs": [],
   "source": [
    "# This is the lambda handler on AWS lambda\n",
    "def lambda_handler(context, event):\n",
    "    variable_files = event['variable_files']\n",
    "    target_file = event['target_file']\n",
    "    df_dict = {}\n",
    "    \n",
    "    df_target = read_csv(target_file)\n",
    "    df_target = convert_timestamp(df_target, TIMESTAMP_COLUMN)\n",
    "    \n",
    "    # Drop the last column of humidity without specifying the column name\n",
    "    df_target.drop(df_target.columns[len(df_target.columns) - 1], axis=1, inplace=True)\n",
    "\n",
    "    for file_name in variable_files:\n",
    "        df_temp = read_csv(file_name)\n",
    "        name = re.sub('\\.csv', '', file_name)\n",
    "        df_dict[name] = convert_timestamp(df_temp, TIMESTAMP_COLUMN)\n",
    "\n",
    "    df_join = merge_df('dt', df_target, df_dict)\n",
    "\n",
    "    # split training data and testing data for X and Y sequentially\n",
    "    # numpy.split is cumulative\n",
    "    df_train, df_test = np.split(df_join, [int(0.8*len(df_join))])\n",
    "    \n",
    "    # Run univariate regression first\n",
    "    df_train_X = df_train.iloc[:, 2:]\n",
    "    df_train_Y = df_train.iloc[:, 1]\n",
    "    df_test_X = df_test.iloc[:, 2:]\n",
    "    df_test_Y = df_test.iloc[:, 1]\n",
    "    \n",
    "    regr = linear_model.LinearRegression()\n",
    "    regr.fit(df_train_X, df_train_Y)\n",
    "    \n",
    "    df_prediction_Y = regr.predict(df_test_X)\n",
    "    \n",
    "    print(\"==============================================================\")\n",
    "    print(\"The coefficients of regression model is {0}\".format(regr.coef_))\n",
    "    print(\"==============================================================\")\n",
    "    print(\"The intercept of regression model is {0}\".format(regr.intercept_))\n",
    "    print(\"==============================================================\")\n",
    "    print(\"The MSE of prediction is {0}\".format(mean_squared_error(df_test_Y, df_prediction_Y)))\n",
    "    print(\"==============================================================\")\n",
    "    print(\"The R Square of regression is {0}\".format(r2_score(df_test_Y, df_prediction_Y)))\n",
    "    print(\"==============================================================\")"
   ]
  },
  {
   "cell_type": "code",
   "execution_count": 582,
   "metadata": {},
   "outputs": [
    {
     "name": "stdout",
     "output_type": "stream",
     "text": [
      "The coefficients of regression model is [ 0.6061119   0.63357641  0.0669881  -0.00391848 -0.3170916 ]\n",
      "==============================================================\n",
      "The intercept of regression model is -32.16085063991892\n",
      "==============================================================\n",
      "The MSE of prediction is 10.476078559403526\n",
      "==============================================================\n",
      "The R Square of regression is 0.9143572834979432\n",
      "==============================================================\n"
     ]
    }
   ],
   "source": [
    "lambda_handler(context, event)"
   ]
  },
  {
   "cell_type": "code",
   "execution_count": null,
   "metadata": {},
   "outputs": [],
   "source": []
  },
  {
   "cell_type": "code",
   "execution_count": null,
   "metadata": {},
   "outputs": [],
   "source": []
  },
  {
   "cell_type": "code",
   "execution_count": 524,
   "metadata": {},
   "outputs": [
    {
     "data": {
      "image/png": "[encoded data removed]",
      "text/plain": [
       "<Figure size 432x288 with 1 Axes>"
      ]
     },
     "metadata": {},
     "output_type": "display_data"
    }
   ],
   "source": [
    "# plt.scatter(df_test_X, df_test_Y, color='green')\n",
    "plt.plot(df_test_X, df_prediction_Y, color='blue', linewidth=3)\n",
    "# plt.xticks(())\n",
    "# plt.yticks(())\n",
    "plt.show()"
   ]
  },
  {
   "cell_type": "code",
   "execution_count": null,
   "metadata": {},
   "outputs": [],
   "source": []
  }
 ],
 "metadata": {
  "kernelspec": {
   "display_name": "Python 3",
   "language": "python",
   "name": "python3"
  },
  "language_info": {
   "codemirror_mode": {
    "name": "ipython",
    "version": 3
   },
   "file_extension": ".py",
   "mimetype": "text/x-python",
   "name": "python",
   "nbconvert_exporter": "python",
   "pygments_lexer": "ipython3",
   "version": "3.6.5"
  }
 },
 "nbformat": 4,
 "nbformat_minor": 2
}
